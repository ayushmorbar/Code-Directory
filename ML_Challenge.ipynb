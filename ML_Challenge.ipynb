{
  "nbformat": 4,
  "nbformat_minor": 0,
  "metadata": {
    "colab": {
      "provenance": [],
      "gpuType": "T4",
      "authorship_tag": "ABX9TyNWqqkf/0Bzv9JtQSj9bkhL",
      "include_colab_link": true
    },
    "kernelspec": {
      "name": "python3",
      "display_name": "Python 3"
    },
    "language_info": {
      "name": "python"
    },
    "accelerator": "GPU"
  },
  "cells": [
    {
      "cell_type": "markdown",
      "metadata": {
        "id": "view-in-github",
        "colab_type": "text"
      },
      "source": [
        "<a href=\"https://colab.research.google.com/github/ayushmorbar/Code-Directory/blob/main/ML_Challenge.ipynb\" target=\"_parent\"><img src=\"https://colab.research.google.com/assets/colab-badge.svg\" alt=\"Open In Colab\"/></a>"
      ]
    },
    {
      "cell_type": "markdown",
      "source": [
        "#1. Download Images and Extract Features\n",
        "Using `utils.py`, use the `download_images` function to fetch images into a local directory for further processing."
      ],
      "metadata": {
        "id": "ejYvSTXmhVpe"
      }
    },
    {
      "cell_type": "code",
      "source": [
        "import pandas as pd\n",
        "import numpy as np"
      ],
      "metadata": {
        "id": "TEUqRnAf0eeB"
      },
      "execution_count": null,
      "outputs": []
    },
    {
      "cell_type": "code",
      "source": [
        "\n",
        "from src.utils import download_images\n",
        "\n",
        "# Load the train dataset\n",
        "train_df = pd.read_csv('/content/dataset/train.csv')\n",
        "\n",
        "# Get the list of image links\n",
        "image_links = train_df['image_link'].tolist()\n",
        "\n",
        "# Download images to a folder named 'images'\n",
        "download_folder = 'images'\n",
        "download_images(image_links, download_folder)\n"
      ],
      "metadata": {
        "id": "38F62tiksow5",
        "colab": {
          "base_uri": "https://localhost:8080/"
        },
        "outputId": "81f31e7c-960e-4248-b48b-b2017ab94904"
      },
      "execution_count": null,
      "outputs": [
        {
          "output_type": "stream",
          "name": "stderr",
          "text": [
            "100%|██████████| 263859/263859 [26:35<00:00, 165.36it/s]\n"
          ]
        }
      ]
    },
    {
      "cell_type": "markdown",
      "source": [
        "#2. Image Preprocessing and Feature Extraction\n",
        "For feature extraction, process each image and extract the relevant features (like entity values: weight, volume, etc.). If you're using pre-trained models, you could use models like ResNet, VGG or any custom CNN for this task."
      ],
      "metadata": {
        "id": "JQfUIwQo08LK"
      }
    },
    {
      "cell_type": "code",
      "source": [
        "from PIL import Image\n",
        "import os\n",
        "\n",
        "def preprocess_image(image_path):\n",
        "    \"\"\"Function to preprocess the image.\"\"\"\n",
        "    image = Image.open(image_path)\n",
        "    image = image.resize((224, 224))  # Example: Resize to 224x224\n",
        "    return image\n",
        "\n",
        "# Preprocess images in the 'images' folder\n",
        "for img_file in os.listdir(download_folder):\n",
        "    img_path = os.path.join(download_folder, img_file)\n",
        "    image = preprocess_image(img_path)\n",
        "    # Further processing like converting to tensors, etc.\n"
      ],
      "metadata": {
        "id": "RibTrYVY1Bau"
      },
      "execution_count": null,
      "outputs": []
    },
    {
      "cell_type": "markdown",
      "source": [
        "# 3. Entity Value Extraction\n",
        "Extract entity values from the images. Since the dataset includes both the entity name and value, starting by training a machine learning model using deep learning approach as illustrated to predict these values based on the images"
      ],
      "metadata": {
        "id": "8nPAf86z1bQX"
      }
    },
    {
      "cell_type": "code",
      "source": [
        "import tensorflow as tf\n",
        "from tensorflow.keras.models import Sequential\n",
        "from tensorflow.keras.layers import Dense, Conv2D, Flatten, MaxPooling2D\n",
        "from tensorflow.keras.preprocessing.image import ImageDataGenerator\n",
        "import numpy as np\n",
        "\n",
        "# Example CNN model for extracting features from images\n",
        "def create_model():\n",
        "    model = Sequential([\n",
        "        Conv2D(32, (3, 3), activation='relu', input_shape=(224, 224, 3)),\n",
        "        MaxPooling2D(pool_size=(2, 2)),\n",
        "        Flatten(),\n",
        "        Dense(128, activation='relu'),\n",
        "        Dense(1)  # For predicting a single continuous value like weight/volume\n",
        "    ])\n",
        "    model.compile(optimizer='adam', loss='mse', metrics=['mae'])\n",
        "    return model\n",
        "\n",
        "model = create_model()\n",
        "model.summary()\n"
      ],
      "metadata": {
        "id": "3ALXCkKs1c9d"
      },
      "execution_count": null,
      "outputs": []
    },
    {
      "cell_type": "markdown",
      "source": [
        "#4. Handling Data (Entity Names and Values)\n",
        "From the `train.csv` file, map entity names to their respective units using the `constants.py` file."
      ],
      "metadata": {
        "id": "gWUrmlPP21az"
      }
    },
    {
      "cell_type": "code",
      "source": [
        "# Map entity names to units from constants.py\n",
        "from src.constants import entity_unit_map\n",
        "\n",
        "# For each entity in train data, find its allowed units\n",
        "def map_entity_to_units(entity_name):\n",
        "    return entity_unit_map.get(entity_name, None)\n",
        "\n",
        "train_df['allowed_units'] = train_df['entity_name'].apply(map_entity_to_units)"
      ],
      "metadata": {
        "id": "i2jc8Xvy21xY"
      },
      "execution_count": null,
      "outputs": []
    },
    {
      "cell_type": "markdown",
      "source": [
        "#5. Training the Model\n",
        "\n",
        "Once we got the images and the entity values, split the data into training and validation sets and train the model:"
      ],
      "metadata": {
        "id": "M4Sc-KSn3oJZ"
      }
    },
    {
      "cell_type": "code",
      "source": [
        "from sklearn.model_selection import train_test_split\n",
        "\n",
        "# Example: Use the 'entity_value' as target\n",
        "X = [preprocess_image(os.path.join(download_folder, img)) for img in train_df['image_link']]\n",
        "y = train_df['entity_value'].values\n",
        "\n",
        "# Split the dataset\n",
        "X_train, X_val, y_train, y_val = train_test_split(X, y, test_size=0.2, random_state=42)\n",
        "\n",
        "# Convert X to numpy arrays for model input\n",
        "X_train = np.array(X_train)\n",
        "X_val = np.array(X_val)\n",
        "\n",
        "# Train the model\n",
        "model.fit(X_train, y_train, epochs=10, validation_data=(X_val, y_val))\n"
      ],
      "metadata": {
        "id": "dnUb22qF3pjA"
      },
      "execution_count": null,
      "outputs": []
    },
    {
      "cell_type": "markdown",
      "source": [
        "#6. Sanity Check for Output\n",
        "Finally, use the `sanity.py` file in `src` directory to perform checks on the output."
      ],
      "metadata": {
        "id": "C3pMqVgg4gIe"
      }
    },
    {
      "cell_type": "code",
      "source": [
        "from src.sanity import sanity_check\n",
        "\n",
        "# Assuming the model output has been saved as a CSV file with 'index' and 'prediction'\n",
        "sanity_check('datasets/test.csv', 'output/predictions.csv')\n"
      ],
      "metadata": {
        "id": "HKgck4mZ4jet"
      },
      "execution_count": null,
      "outputs": []
    },
    {
      "cell_type": "code",
      "source": [
        "# prompt: calc f1 score for this problem\n",
        "\n",
        "from sklearn.metrics import f1_score\n",
        "\n",
        "# Assuming you have y_true (true labels) and y_pred (predicted labels)\n",
        "# Replace these with your actual true and predicted values\n",
        "y_true = y_val  # True labels from the validation set\n",
        "y_pred = model.predict(X_val)  # Predicted labels from the model\n",
        "\n",
        "# Convert predicted values to binary classification (e.g., based on a threshold)\n",
        "# You might need to adjust the threshold based on your specific problem\n",
        "threshold = 0.5\n",
        "y_pred_binary = (y_pred > threshold).astype(int)\n",
        "\n",
        "# Calculate the F1 score\n",
        "f1 = f1_score(y_true, y_pred_binary)\n",
        "\n",
        "print(\"F1 Score:\", f1)\n"
      ],
      "metadata": {
        "id": "1aWEZyWeAwYT"
      },
      "execution_count": null,
      "outputs": []
    }
  ]
}